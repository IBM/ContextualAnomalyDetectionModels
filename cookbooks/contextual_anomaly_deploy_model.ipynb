{
 "cells": [
  {
   "cell_type": "markdown",
   "metadata": {},
   "source": [
    "## Notebook: Contextual Anomaly Detection (CAD) Model Deployment\n",
    "\n",
    "This is the second of a series of three notebooks that show how the Contextual Anomaly Detection (CAD) Accelerator can be used to train and deploy a prediction interval model into Monitor using the Model Factory service endpoints.\n",
    "1.   Training: cookbooks/contextual_anomaly_train.ipynb\n",
    "2.  Monitor Device Creation: cookbooks/contextual_anomaly_create_device.ipynb\n",
    "3.   Model Deployment: cookbooks/contextual_anomaly_deploy_model.ipynb\n",
    "\n",
    "\n",
    "### CAD Description\n",
    "\n",
    "The CAD training job produces three prediction interval models that capture the normal operation (non-anomalous) behaviour of a given target variable based on a set of input features. \n",
    "\n",
    "These are point estimate multivariate regression machine learning models (denoted as base regressor) enhanced with conformal prediction statistical wrappers to produce a lower and upper bound that contain the target variable with probability 95% under normal operation (non-anomalous) conditions. Therefore, the probability of observing a target variable outside of the provided interval is 5% under normal operation conditions.\n",
    "\n",
    "### Wind Turbine Dataset Description: \n",
    "\n",
    "In this notebook we use the CAD Accelerator to learn a prediction interval model that covers the normal operation behaviour of the Average Reactive Power of a Wind turbine asset with probability 95%. We consider 4 input features to predict the target variable. These are Average Active Power, Average Generator Bearing 1 Temperature, Average Generator Bearing 2 Temperature, Average Wind Speed.\n",
    "\n",
    "### Model Deployment Notebook Description\n",
    "\n",
    "This notebook shows an example of how we can deploy a trained CAD model into Monitor using the Model Factory Service. The deployed model will be configured as a streaming metric in the corresponding Monitor device.\n",
    "\n",
    "This is the THIRD notebook of our tutorial and should be run after 'cookbooks/contextual_anomaly_train.ipynb' and   'cookbooks/contextual_anomaly_create_device.ipynb' since it requires the model specification file saved at the end of the CAD training notebook and the corresponding Monitor Device created with the contextual_anomaly_create_device notebook.\n",
    "\n"
   ]
  },
  {
   "cell_type": "markdown",
   "metadata": {},
   "source": [
    "\n",
    "\n",
    "<a id='notebook_workflow'></a>\n",
    "### Notebook Workflow\n",
    "- [Imports](#imports)\n",
    "- [Load Model Factory config file (yaml)](#load_mfyaml)\n",
    "- [Load Model specification file (yaml)](#load_modelspecyaml)\n",
    "- [Prepare Payload to Deploy Trained Model](#prepare_payload)\n",
    "- [Post Model Deployment Job](#deploy_model_post)\n",
    "- [Request job log and summary](#job_log)"
   ]
  },
  {
   "cell_type": "markdown",
   "metadata": {},
   "source": [
    "<a id='imports'></a>\n",
    "### Imports"
   ]
  },
  {
   "cell_type": "code",
   "execution_count": null,
   "metadata": {
    "id": "483a0f8757a44528818b78c70cf7dfbc"
   },
   "outputs": [],
   "source": [
    "import requests\n",
    "import yaml\n",
    "import pandas as pd"
   ]
  },
  {
   "cell_type": "markdown",
   "metadata": {
    "id": "eefd11f558654f35a5da132dfbf27956"
   },
   "source": [
    "<a id='load_mfyaml'></a>\n",
    "### Load Model Factory config file (yaml)"
   ]
  },
  {
   "cell_type": "markdown",
   "metadata": {},
   "source": [
    "\n",
    "This file is a dictionary containing:\n",
    "\n",
    "    - endpoint_url: <ACTION: Replace with Model Factory endpoint URL>\n",
    "    - train_recipe_endpoint: recipe/supervised-anomaly (DON'T CHANGE)\n",
    "    - deploy_recipe_endpoint: deployment/monitor/model/create (DON'T CHANGE)\n",
    "    - create_device_recipe_endpoint: deployment/monitor/device/create (DON'T CHANGE)"
   ]
  },
  {
   "cell_type": "code",
   "execution_count": null,
   "metadata": {},
   "outputs": [],
   "source": [
    "model_factory_config_file_name = \"../config/model_factory_config.yml\"\n",
    "\n",
    "\n",
    "with open(model_factory_config_file_name, 'r') as file:\n",
    "    model_factory_config = yaml.safe_load(file)\n",
    "\n",
    "print(model_factory_config)"
   ]
  },
  {
   "cell_type": "markdown",
   "metadata": {
    "id": "a1ed8c63b125498da0999e5c95b7a51b"
   },
   "source": [
    "<a id='load_modelspecyaml'></a>\n",
    "### Load Model specification file (yaml)\n",
    "\n",
    "This is the .yaml file saved in the last step of the contextual_anomaly_train.ipynb notebook. It is a dictionary containing the following information:\n",
    "\n",
    "    - onnx_model_uri : Model mlflow uri provided in the CAD training summary\n",
    "    - train_job_id : Model Factory CAD training job id\n",
    "    - mas_device_name : Name of the Monitor Device"
   ]
  },
  {
   "cell_type": "code",
   "execution_count": null,
   "metadata": {},
   "outputs": [],
   "source": [
    "input_file_name = \"../config/model_info.yml\"\n",
    "\n",
    "with open(input_file_name, 'r') as file:\n",
    "    model_info_data = yaml.safe_load(file)\n",
    "\n",
    "print(model_info_data)"
   ]
  },
  {
   "cell_type": "markdown",
   "metadata": {},
   "source": [
    "<a id='prepare_payload'></a>\n",
    "### Prepare Payload to Deploy Trained Model"
   ]
  },
  {
   "cell_type": "markdown",
   "metadata": {},
   "source": [
    "The payload to deploy model into Monitor requires the following files:\n",
    "\n",
    "- iot_credentials: This file is located in config/iot_credentials.yaml and is a dictionary containing the following information\n",
    "    - IOT_URL: <INSERT>\n",
    "    - IOT_API_KEY: <INSERT>\n",
    "    - IOT_API_TOKEN: <INSERT>\n",
    "    - model_api: /api/v0002/pipeline/models\n",
    "    - MAS_URL: <INSERT>\n",
    "    - X-api-key: <INSERT>\n",
    "    - X-api-token: <INSERT>\n",
    "    - mam_user_email: <INSERT>\n",
    "    - tenantId: <INSERT>\n",
    "\n",
    "\n",
    "- mas_device_name: Name of mas device where the model should be deployed (this will be obtained from the Model Specification file, [see above](#load_modelspecyaml) )\n",
    "\n",
    "- onnx_model_uri: mlflow uri of the onnx model to be deployed (this will be obtained from the Model Specification file, [see above](#load_modelspecyaml) )\n",
    "\n",
    "- train_job_id: CAD training job id of the model that is being deployed (this will be obtained from the Model Specification file, [see above](#load_modelspecyaml) )\n",
    "\n",
    "- prepare_kpi_dashboard: Boolean indicating if a dashboard should be created"
   ]
  },
  {
   "cell_type": "code",
   "execution_count": null,
   "metadata": {},
   "outputs": [],
   "source": [
    "'''\n",
    "Credential File Path and Name\n",
    "'''\n",
    "\n",
    "credentials_file_path = \"../config/iot_credentials_beta.yaml\"\n",
    "credentials_file_name = \"iot_credentials_beta.yaml\"\n",
    "\n",
    "\n",
    "'''\n",
    "Device Name, ONNX Model URI, Train Job ID \n",
    "'''\n",
    "\n",
    "mas_device_name = model_info_data['mas_device_name']\n",
    "onnx_model_uri = model_info_data['onnx_model_uri']\n",
    "train_job_id =  model_info_data['train_job_id']\n",
    "prepare_kpi_dashboard = False\n"
   ]
  },
  {
   "cell_type": "code",
   "execution_count": null,
   "metadata": {},
   "outputs": [],
   "source": [
    "payload = {}\n",
    "payload[\"onnx_model_uri\"] = onnx_model_uri\n",
    "payload[\"mas_device_name\"] = mas_device_name\n",
    "payload[\"train_job_id\"] = train_job_id\n",
    "payload['prepare_kpi_dashboard'] = prepare_kpi_dashboard\n",
    "\n",
    "files = [\n",
    "    (\"iot_credentials\", (credentials_file_name, open(credentials_file_path), \"text/csv\"))\n",
    "]"
   ]
  },
  {
   "cell_type": "markdown",
   "metadata": {},
   "source": [
    "<a id='deploy_model_post'></a> \n",
    "### Post Model Deployment Job "
   ]
  },
  {
   "cell_type": "code",
   "execution_count": null,
   "metadata": {},
   "outputs": [],
   "source": [
    "endpoint_url = model_factory_config[\"endpoint_url\"]\n",
    "deploy_recipe_endpoint = endpoint_url + model_factory_config[\"deploy_recipe_endpoint\"]\n",
    "print(deploy_recipe_endpoint)"
   ]
  },
  {
   "cell_type": "code",
   "execution_count": null,
   "metadata": {},
   "outputs": [],
   "source": [
    "headers = {\n",
    "  'accept': 'application/json'\n",
    "}\n",
    "response = requests.post(deploy_recipe_endpoint, data=payload, files=files, headers=headers)\n",
    "\n",
    "post_r_json = response.json()\n",
    "print(post_r_json)\n",
    "job_id = post_r_json['job_id']\n",
    "print('job id:',job_id )"
   ]
  },
  {
   "cell_type": "markdown",
   "metadata": {},
   "source": [
    "<a id='job_log'></a> \n",
    "### Request job log and summary"
   ]
  },
  {
   "cell_type": "code",
   "execution_count": null,
   "metadata": {},
   "outputs": [],
   "source": [
    "logs = requests.get(endpoint_url + \"log/\" + job_id, headers=headers)\n",
    "print('LOGS :: ')\n",
    "if \"logs\" in logs.json():\n",
    "    print(logs.json()[\"logs\"])\n",
    "else:\n",
    "    print(logs.json())\n",
    "\n",
    "summary = requests.get(endpoint_url + \"summary/\" + job_id, headers=headers)\n",
    "print('SUMMARY :: ')\n",
    "print(summary.json())"
   ]
  },
  {
   "cell_type": "code",
   "execution_count": null,
   "metadata": {},
   "outputs": [],
   "source": []
  }
 ],
 "metadata": {
  "kernelspec": {
   "display_name": "Python 3 (ipykernel)",
   "language": "python",
   "name": "python3"
  },
  "language_info": {
   "codemirror_mode": {
    "name": "ipython",
    "version": 3
   },
   "file_extension": ".py",
   "mimetype": "text/x-python",
   "name": "python",
   "nbconvert_exporter": "python",
   "pygments_lexer": "ipython3",
   "version": "3.9.16"
  }
 },
 "nbformat": 4,
 "nbformat_minor": 1
}
